{
 "cells": [
  {
   "cell_type": "markdown",
   "metadata": {
    "collapsed": false
   },
   "source": [
    "SwatGrains 2020 Data Analysis: Info.txt file - Properties of Jamming\n",
    "==========="
   ]
  },
  {
   "cell_type": "markdown",
   "metadata": {
    "collapsed": false
   },
   "source": [
    "## 0.1. Load Data\n",
    "\n",
    "Loads a info.txt file as the dataframe \"data,\" adding rows for elastic moduli and percentage of rattlers, and disregarding rows which are not jammed or physically unreasonable.\n",
    "Then uses linear regression to calculate $\\phi_c$ for each trial, and generates a column of $\\Delta\\phi$ values in the dataframe."
   ]
  },
  {
   "cell_type": "code",
   "execution_count": 2,
   "metadata": {
    "collapsed": false
   },
   "outputs": [
   ],
   "source": [
    "# READ DATA\n",
    "\n",
    "import numpy as np\n",
    "import scipy.optimize as sp\n",
    "import matplotlib.pyplot as plt\n",
    "import pandas as pd\n",
    "import os\n",
    "from scipy import stats\n",
    "\n",
    "def linear_fit(xdata,slope,intercept):\n",
    "    return xdata*slope+intercept\n",
    "\n",
    "def read_data(filename):\n",
    "    data = pd.read_csv(filename, sep=' ', usecols=range(19), dtype={'r_small':'str','a':'str'}) # read text file into dataframe\n",
    "    # Add columns for elastic moduli\n",
    "    #data = data.groupby(['r_small', 'percolation','num_pins']).mean().reset_index()\n",
    "    bulkModulus = 0.25*(data['cxxxx'] + data['cyyyy']+2*data['cxxyy'])\n",
    "    shearPrimeModulus = 0.25*(data['cxxxx'] + data['cyyyy'] - 2*data['cxxyy'])\n",
    "    #data['rattlerfraction'] = data['rattler_count']/(data['num_total']-data['num_pins'])\n",
    "    data['averageShear'] = 0.5*(data['cxyxy']+shearPrimeModulus).abs()\n",
    "    data['bulkModulus'] = bulkModulus.abs()\n",
    "    data['shearPrimeModulus'] = shearPrimeModulus.abs()\n",
    "    data = data[(data.phi_norattlers<0.95) & (data.pressure>1e-8)]\n",
    "    # remove bad data rows\n",
    "    data = data[np.logical_or(data.percolation == 1, data.percolation == 3)]  # remove non-jammed cases\n",
    "    data = data[data.bulkModulus > 0] # remove physically unreasonable elastic moduli\n",
    "    data = data[np.logical_and(data.cxyxy>0,data.shearPrimeModulus>0)]\n",
    "    return data\n",
    "\n",
    "def read_new_data(filename):\n",
    "    if filename[-8]=='7': # kind of roundabout: two different file formats mean we have to check which we have, right now all new data is from July\n",
    "        data=pd.read_csv(filename, usecols=range(27), sep=' ', header=0, names=['phi', 'phi_norattlers', 'pressure', 'energy', 'percolation', 'rattler_count', 'cxxxx', 'cyyyy', 'cxyxy', 'cxxyy', 'cxxxy', 'cyyxy', 'axxxx', 'ayyyy', 'axyxy', 'axxyy', 'axxxy', 'ayyxy', 'space1', 'space2', 'geometry', 'seed', 'num_total', 'num_pins', 'r_small', 'a', 'geo_number'], dtype={'r_small':'str','a':'str'}).dropna(axis=1) # read bondInfo.txt\n",
    "        bulkModulus = 0.25*(data['cxxxx'] + data['cyyyy']+2*data['cxxyy'])\n",
    "        shearPrimeModulus = 0.25*(data['cxxxx'] + data['cyyyy'] - 2*data['cxxyy'])\n",
    "        #data['rattlerfraction'] = data['rattler_count']/(data['num_total']-data['num_pins'])\n",
    "        data['averageShear'] = 0.5*(data['cxyxy']+shearPrimeModulus).abs()\n",
    "        data['bulkModulus'] = bulkModulus.abs()\n",
    "        data['shearPrimeModulus'] = shearPrimeModulus.abs()\n",
    "        data = data[(data.phi_norattlers<0.95) & (data.pressure>1e-8)]\n",
    "        #affine moduli\n",
    "        aBulkModulus = 0.25*(data['axxxx'] + data['ayyyy']+2*data['axxyy'])\n",
    "        aShearPrimeModulus = 0.25*(data['axxxx'] + data['ayyyy'] - 2*data['axxyy'])\n",
    "        data['aAverageShear'] = 0.5*(data['axyxy']+aShearPrimeModulus).abs()\n",
    "        data['aBulkModulus'] = aBulkModulus.abs()\n",
    "        data['aShearPrimeModulus'] = aShearPrimeModulus.abs()\n",
    "        # remove bad data rows\n",
    "        data = data[np.logical_or(data.percolation == 1, data.percolation == 3)]  # remove non-jammed cases\n",
    "        data = data[data.bulkModulus > 0] # remove physically unreasonable elastic moduli\n",
    "        data = data[np.logical_and(data.cxyxy>0,data.shearPrimeModulus>0)]\n",
    "        return data\n",
    "    else:\n",
    "        return read_data(filename)\n",
    "\n",
    "\n",
    "# parameters\n",
    "filenames = {'squ64_07-12':'simulation_data/squ_Info07-12.txt', 'squ36_07-11':'simulation_data/squ_Info07-11.txt', 'tri36_07-11':'simulation_data/tri_Info07-11.txt', 'tri64_07-12':'simulation_data/tri_Info07-12.txt',\n",
    "             'squ64_07-13':'simulation_data/squ_Info07-13.txt', 'non0_07-11':'simulation_data/non_Info07-11.txt', 'ran36_07-11':'simulation_data/ran_Info07-11.txt', 'non0_07-13':'simulation_data/non_Info07-13.txt',\n",
    "             'non0_08-02':'simulation_data/ZeroPinData/non_Info08-02.txt', 'non0_06-20':'simulation_data/ZeroPinData/non_Info06-20.txt', 'squ16_08-05':'simulation_data/squ_InfoNp16_08-05.txt', 'squ64_08-05':'simulation_data/squ_InfoNp64_08-05.txt', 'tri64_08-08':'simulation_data/tri_InfoNp64_08-08.txt',\n",
    "             'squ100_07-19':'simulation_data/squ_Info07-19.txt', 'tri100_07-19':'simulation_data/tri_Info07-19.txt', 'ran100_07-19':'simulation_data/ran_Info07-19.txt'\n",
    "            }\n",
    "files = ['non0_07-11', 'non0_07-13', 'squ36_07-11', 'squ64_07-12', 'tri36_07-11', 'tri64_07-12', 'ran36_07-11', 'squ100_07-19', 'tri100_07-19', 'ran100_07-19', 'non0_08-02', 'non0_06-20', 'squ16_08-05', 'squ64_08-05', 'tri64_08-08']\n",
    "#files=['non0_08-02']\n",
    "dataDict={file:read_new_data(filenames[file]) for file in files}"
   ]
  },
  {
   "cell_type": "code",
   "execution_count": 73,
   "metadata": {
    "collapsed": false
   },
   "outputs": [
    {
     "data": {
      "image/png": "[encoded data removed]",
      "text/plain": [
       "<Figure size 864x504 with 1 Axes>"
      ]
     },
     "execution_count": 73,
     "metadata": {
      "image/png": {
       "height": 426,
       "width": 710
      },
      "needs_background": "light"
     },
     "output_type": "execute_result"
    }
   ],
   "source": [
    "#comparison of the 6-30 and 6-20 920 particle no pin data, looking at pressure distribution\n",
    "import seaborn as sns\n",
    "#print(len(nonLo), len(nonHi))\n",
    "for file in files:\n",
    "    sns.distplot(dataDict[file]['pressure'], bins=10**np.linspace(-4,1,30),hist_kws={'histtype':'step','linewidth':3,'alpha':0.8},hist=True,kde=False,kde_kws={'linewidth':0},label=file)\n",
    "plt.legend()\n",
    "plt.xscale('log')"
   ]
  },
  {
   "cell_type": "markdown",
   "metadata": {
    "collapsed": false
   },
   "source": [
    "## 0.2. Writing a pressure text file for bondInfo_network.ipynb\n",
    "To aid our work in the bondInfo_network.ipynb notebook, we need to output a text file containing pressure values for each jammed seed such that they are easily accessed by trial name. The trial name convention in bondInfo.txt is as follows:\n",
    "$$\\text{\\{geometry\\}-\\{seed\\}-\\{particles\\}-\\{pins\\}-\\{small\\}_\\{radius\\}-\\{separation\\}}$$\n",
    "So we will output trial names also in this format."
   ]
  },
  {
   "cell_type": "code",
   "execution_count": 37,
   "metadata": {
    "collapsed": false
   },
   "outputs": [
    {
     "name": "stdout",
     "output_type": "stream",
     "text": [
      "simulation_data/squ_Pressures07-19.txt file is either empty or missing, generating new file\n"
     ]
    },
    {
     "name": "stdout",
     "output_type": "stream",
     "text": [
      "simulation_data/tri_Pressures07-19.txt file is either empty or missing, generating new file\n"
     ]
    },
    {
     "name": "stdout",
     "output_type": "stream",
     "text": [
      "simulation_data/ran_Pressures07-19.txt file is either empty or missing, generating new file\n"
     ]
    }
   ],
   "source": [
    "def pressure_file(dataset, file):\n",
    "    filePath=file.split('/')\n",
    "    filePath[-1]=filePath[-1].replace('Info','Pressures')\n",
    "    minPressures=dataset.loc[dataset.groupby(['seed','r_small'], as_index=False)['pressure'].idxmin()]\n",
    "    minPressures['trialName']=minPressures.apply(lambda x: '{}-{}-{}-{}-{}-{}'.format(*[str(x[key]) for key in ['geometry','seed','num_total','num_pins','r_small','a']]), axis=1)\n",
    "    name_and_pressure=minPressures['pressure']\n",
    "    name_and_pressure.index=minPressures['trialName']\n",
    "    try:\n",
    "        pressuresFile=pd.read_csv('/'.join(filePath), sep=' ', index_col=0)\n",
    "    except:\n",
    "        print('{} file is either empty or missing, generating new file'.format('/'.join(filePath)))\n",
    "        pressuresFile=pd.DataFrame()\n",
    "    pressuresFile['pressure']=name_and_pressure\n",
    "    pressuresFile.to_csv('/'.join(filePath), sep=' ')\n",
    "    return pressuresFile\n",
    "\n",
    "for file in files:\n",
    "    pressure_file(dataDict[file],filenames[file])"
   ]
  },
  {
   "cell_type": "markdown",
   "metadata": {
    "collapsed": false
   },
   "source": [
    "## 0.3. Finding $\\phi_c$ and $\\Delta\\phi$\n",
    "Uses scipy.optimize.curve_fit() to find take a linear regression of $\\phi$ against pressure. We expect pressure to go to zero at $\\phi_c$, so the intercept of this trendline is the critical packing fraction. Then, create a $\\Delta\\phi$ column using the relation $\\Delta\\phi=\\phi-\\phi_c.$"
   ]
  },
  {
   "cell_type": "code",
   "execution_count": 114,
   "metadata": {
    "collapsed": false
   },
   "outputs": [
   ],
   "source": [
    "data = read_data('simulation_data/squInfo08-05.txt')\n",
    "#deltaPhiFrame = pd.DataFrame(dtype='float64') # initialize a Series to add values to\n",
    "phiCriticals_bySeed = []\n",
    "phiCriticals_byGroup = []\n",
    "\n",
    "# linear regression by seed\n",
    "for trial in data.groupby(['num_pins', 'seed']): # split data by seed, pin number, and regress each trial\n",
    "    [slope,intercept], covariance = sp.curve_fit(linear_fit,trial[1]['pressure'],trial[1]['phi']) # find critical phi value by taking the x intercept of pressure/phi data\n",
    "    #deltaPhi = trial[1]['phi']-intercept # calculate delta phi\n",
    "    #deltaPhiSeries = deltaPhiSeries.append(deltaPhi) # add delta phi values for this trial to the column\n",
    "\n",
    "    phiCriticals_bySeed.append((trial[0][0], intercept)) # save critical phi values to plot separately\n",
    "\n",
    "# linear regression for all data\n",
    "for trial in data.groupby('num_pins'): # split data by pin number, and regress each trial\n",
    "    [slope,intercept], covariance = sp.curve_fit(linear_fit,trial[1]['pressure'],trial[1]['phi']) # find critical phi value by taking the x intercept of pressure/phi data\n",
    "    perror=np.sqrt(np.diag(covariance))\n",
    "\n",
    "    phiCriticals_byGroup.append((trial[0], intercept, perror[1])) # save critical phi values to plot separately\n",
    "\n",
    "#data['deltaPhi'] = deltaPhiSeries # add completed delta phi column to data set\n",
    "#data = data[data.deltaPhi >= 0] # Only concerned with data after jamming"
   ]
  },
  {
   "cell_type": "code",
   "execution_count": 143,
   "metadata": {
    "collapsed": false
   },
   "outputs": [
    {
     "name": "stdout",
     "output_type": "stream",
     "text": [
      "regressed by seed:\n",
      "              phi_c  err_phi_c\n",
      "num_pins                     \n",
      "16        0.839576   0.000173\n",
      "36        0.833108   0.000205\n",
      "64        0.825886   0.000237\n",
      "100       0.808140   0.000306\n",
      "\n",
      "regressed by pin number:\n",
      "              phi_c  err_phi_c\n",
      "num_pins                     \n",
      "16        0.839523   0.000147\n",
      "36        0.833031   0.000162\n",
      "64        0.825801   0.000181\n",
      "100       0.808065   0.000196\n"
     ]
    },
    {
     "data": {
      "image/png": "[encoded data removed]",
      "text/plain": [
       "<Figure size 576x576 with 1 Axes>"
      ]
     },
     "execution_count": 143,
     "metadata": {
      "image/png": {
       "height": 494,
       "width": 512
      },
      "needs_background": "light"
     },
     "output_type": "execute_result"
    }
   ],
   "source": [
    "seedFrame=pd.DataFrame(phiCriticals_bySeed)\n",
    "groupFrame=pd.DataFrame(phiCriticals_byGroup)\n",
    "\n",
    "groupFrame.columns=['num_pins', 'phi_c', 'err_phi_c']\n",
    "groupFrame=groupFrame.set_index('num_pins')\n",
    "seedFrame=seedFrame.groupby(0).agg({1:['mean','sem']})\n",
    "seedFrame.columns=['phi_c', 'err_phi_c']\n",
    "seedFrame.index.name='num_pins'\n",
    "\n",
    "print('regressed by seed:\\n', seedFrame)\n",
    "print('\\nregressed by pin number:\\n', groupFrame)\n",
    "\n",
    "plt.figure(figsize=(8,8))\n",
    "for df in [seedFrame,groupFrame]:\n",
    "    plt.errorbar(df.index, df['phi_c'], yerr=df['err_phi_c'],fmt='.', ms=10, alpha=0.6)\n",
    "plt.xlabel('number of pins')\n",
    "plt.ylabel('$\\phi_c$')\n",
    "plt.title('square lattice critical packing fraction vs number of pins')\n",
    "plt.show()"
   ]
  },
  {
   "cell_type": "markdown",
   "metadata": {
    "collapsed": false
   },
   "source": [
    "# 1. Pressure plots"
   ]
  },
  {
   "cell_type": "markdown",
   "metadata": {
    "collapsed": false
   },
   "source": [
    "## 1.1. Plot $\\phi_c$ for each trial\n",
    "\n",
    "Plots $\\phi_c$ for each trial. Uncomment line 8 to save a .png to the plots subdirectory."
   ]
  },
  {
   "cell_type": "code",
   "execution_count": 0,
   "metadata": {
    "collapsed": false
   },
   "outputs": [
   ],
   "source": [
    "# A quick plot of the critical packing fraction correlation\n",
    "\n",
    "if not os.path.exists('plots'): # check for/create subdirectory for images\n",
    "    os.makedirs('plots')\n",
    "\n",
    "plt.figure(figsize = (8,8)) # large, square plot\n",
    "plt.scatter(*zip(*phiCriticals))\n",
    "plt.xlabel(independentVariable)\n",
    "plt.ylabel('$\\phi_c$')\n",
    "plt.title('$\\phi_c$ vs. {}'.format(independentVariable))\n",
    "#plt.savefig('plots/critical_packing_vs_{}.png'.format(independentVariable), dpi=300)\n",
    "plt.show()"
   ]
  },
  {
   "cell_type": "markdown",
   "metadata": {
    "collapsed": false
   },
   "source": [
    "## 1.2 (Deprecated). Elastic Moduli K, G, and G' vs. Pressure (all values averaged)\n",
    "This function is the bane of my existence and will be burned once it is sufficiently scavenged for parts."
   ]
  },
  {
   "cell_type": "raw",
   "metadata": {
    "collapsed": false
   },
   "source": [
    "# PLOT DATA\n",
    "#print('Shear Modulus:',data['cxyxy'].mean(),'+/-',data['cxyxy'].std())\n",
    "#print('Bulk Modulus:',data['bulkModulus'].mean(),'+/-',data['bulkModulus'].std())\n",
    "#print('Shear Prime Modulus:',data['shearPrimeModulus'].mean(),'+/-',data['shearPrimeModulus'].std())\n",
    "\n",
    "def plot_data(dataset, xvar, yvar, variable, xrange=None, yrange=None, xlabel=False, ylabel=False, saveFigure=False, trendLine=True):\n",
    "    # Plots specified x vs. y, with all seeds averaged for each phi, for each trial in the dataset on the same logarithmic axes.\n",
    "    # NOTE: if trendline is used, give axis limits!\n",
    "    # PARAMETERS:\n",
    "    #     dataset       (grouped df) - as compiled by read_data()\n",
    "    #     xvar/yvar     (str)        - header of x/y axis data column\n",
    "    #     variable      (str)        - variable which is altered between trials\n",
    "    #     xrange/yrange (tuple)      - minimum and maximum x/y limits\n",
    "    #     xlabel/ylabel (str)        - labels for axes and title. If blank, xvar/yvar are used.\n",
    "    #     saveFigure    (bool)       - if True, saves png to root folder.\n",
    "    #     trendLine     (bool)       - if True, finds and plots a trendLine.\n",
    "\n",
    "#    plt.figure(figsize=(8,8)) # large, square plot\n",
    "\n",
    "    # checks for custom axis labels\n",
    "    if not xlabel:\n",
    "        xlabel = xvar\n",
    "    if not ylabel:\n",
    "        ylabel = yvar\n",
    "\n",
    "    # plots and labels each trial\n",
    "    colorCounter=0 # tick colors through the for loop - this makes sure trend lines are the same color as corresponding data\n",
    "    for trial in dataset.groupby(variable):\n",
    "        legendLabel = '{}: {}'.format(variable, trial[0])\n",
    "# Option 1: Average values for each seed and plot with error bars\n",
    "#        trialData=trial[1][trial[1].deltaPhi<=0.1] # isolate data right after jamming\n",
    "#\n",
    "#        # average all seeds for each phi value\n",
    "#        varAverages=trialData.groupby('phi')[[xvar,yvar]].mean()\n",
    "#        varStd=trialData.groupby('phi')[[xvar,yvar]].std()\n",
    "#\n",
    "#        # logarithmic axes, clip error bars at 0\n",
    "#        plt.xscale(\"log\", nonposx='clip')\n",
    "#        plt.yscale(\"log\", nonposy='clip')\n",
    "#\n",
    "#        # plot data\n",
    "#        plt.errorbar(varAverages[xvar], varAverages[yvar], xerr=varStd[xvar],yerr=varStd[yvar], fmt='.', color='C{}'.format(colorCounter),ecolor=None, label=legendLabel, alpha=0.5)\n",
    "#\n",
    "# Option to plot un-averaged data\n",
    "        plt.loglog(trial[1][xvar],trial[1][yvar],'.',alpha=0.6,label=legendLabel)\n",
    "\n",
    "        # plot trend line for each trial\n",
    "        [slope,intercept], covariance = sp.curve_fit(linear_fit,np.log10(trial[1][xvar]), np.log10(trial[1][yvar]))\n",
    "        error=np.sqrt(np.diag(covariance))\n",
    "        plotFailed=False # This is just a warning if used incorrectly, since our code is a little messy.\n",
    "        try:\n",
    "            #xValues=np.array(xrange)\n",
    "            xValues=np.array(plt.xlim())\n",
    "            yValues=xValues**slope*10**intercept\n",
    "            plt.plot(xValues,yValues,color='C{}'.format(colorCounter))\n",
    "        except TypeError:\n",
    "            plotFailed=True\n",
    "        colorCounter+=1\n",
    "\n",
    "        if plotFailed:\n",
    "            print('Trendline(s) omitted: make sure to specify axis limits.')\n",
    "\n",
    "    # cosmetics\n",
    "    title='{} vs. {}, slope: {} +/- {}'.format(ylabel,xlabel, round(slope,3), round(error[0],3))\n",
    "    plt.title(title)\n",
    "    plt.xlabel(xlabel)\n",
    "    plt.ylabel(ylabel)\n",
    "    #leg = plt.legend() # generate legend\n",
    "\n",
    "    # custom axis limits, if specified\n",
    "    if xrange != None:\n",
    "        plt.xlim(xrange)\n",
    "    if yrange != None:\n",
    "        plt.ylim(yrange)\n",
    "\n",
    "    # export figure as image\n",
    "    if saveFigure:\n",
    "        if not os.path.exists('plots'): # check for/create subdirectory for images\n",
    "            os.makedirs('plots')\n",
    "        imageName='plots/avg_{}_vs_{}.png'.format(yvar,xvar)\n",
    "        plt.savefig(imageName, dpi=300)\n",
    "        print('Figure saved as {}!'.format(imageName))\n",
    "\n",
    "    # plots the figure\n",
    "#    plt.show()"
   ]
  },
  {
   "cell_type": "code",
   "execution_count": 6,
   "metadata": {
    "collapsed": false
   },
   "outputs": [
    {
     "data": {
      "application/vnd.jupyter.widget-view+json": {
       "model_id": "4acdcf9758824e3686472705001ee17f",
       "version_major": 2,
       "version_minor": 0
      },
      "text/plain": [
       "HBox(children=(FloatProgress(value=0.0, max=2.0), HTML(value='')))"
      ]
     },
     "execution_count": 6,
     "metadata": {
     },
     "output_type": "execute_result"
    },
    {
     "name": "stdout",
     "output_type": "stream",
     "text": [
      "non0_07-11 Bulk Modulus 0.018032267399910665 1.9009686533083885\n",
      "non0_07-11 Shear Modulus 0.4692133397991037 0.7366815685540449\n",
      "non0_07-11 Shear Prime Modulus 0.5673990064984145 0.7767949730617987\n",
      "squ36_07-11 Bulk Modulus 0.011244669892070625 1.864736893455281\n",
      "squ36_07-11 Shear Modulus 0.6503043986927076 0.9275198187092655\n",
      "squ36_07-11 Shear Prime Modulus 0.5213149124101278 0.6221931831176727\n",
      "squ64_07-12 Bulk Modulus 0.07644722349142478 1.8806168393320044\n",
      "squ64_07-12 Shear Modulus 0.49128029013815977 0.5677778116751628\n",
      "squ64_07-12 Shear Prime Modulus 0.49652147985099837 0.5391643477638496\n",
      "tri36_07-11 Bulk Modulus 0.01779968054844875 1.9339550634026739\n",
      "tri36_07-11 Shear Modulus 0.554207652980957 0.8508958678511225\n",
      "tri36_07-11 Shear Prime Modulus 0.5327850713661149 0.7148223642808854\n"
     ]
    },
    {
     "name": "stdout",
     "output_type": "stream",
     "text": [
      "tri64_07-12 Bulk Modulus 0.00853991541135879 1.8875294354772314\n",
      "tri64_07-12 Shear Modulus 0.4450897045784542 0.594946153071459\n",
      "tri64_07-12 Shear Prime Modulus 0.5348351812986102 0.6954648988623949\n",
      "ran36_07-11 Bulk Modulus 0.004281853532553059 1.8520734655203264\n",
      "ran36_07-11 Shear Modulus 0.5727387448588789 0.7690083827918766\n",
      "ran36_07-11 Shear Prime Modulus 0.4306862089845289 0.5442957193629732\n",
      "squ100_07-19 Bulk Modulus 0.10134294959883183 1.8689419756176908\n",
      "squ100_07-19 Shear Modulus 0.434786831711568 0.6056993729187458\n",
      "squ100_07-19 Shear Prime Modulus 0.5659614956376386 0.477749357311407\n",
      "tri100_07-19 Bulk Modulus 0.13811403852578968 1.8548691925254466\n",
      "tri100_07-19 Shear Modulus 0.3972426615520259 0.2136115041252904\n",
      "tri100_07-19 Shear Prime Modulus 0.566944483443868 0.4415083855040107\n",
      "ran100_07-19 Bulk Modulus 0.07976545041235716 1.7926212798755126\n",
      "ran100_07-19 Shear Modulus 0.26664131456229645 0.20354630171282506\n"
     ]
    },
    {
     "name": "stdout",
     "output_type": "stream",
     "text": [
      "ran100_07-19 Shear Prime Modulus 0.666324783295291 0.6308076860455206\n"
     ]
    },
    {
     "data": {
      "image/png": "[encoded data removed]",
      "text/plain": [
       "<Figure size 1296x432 with 3 Axes>"
      ]
     },
     "execution_count": 6,
     "metadata": {
      "image/png": {
       "height": 381,
       "width": 1061
      },
      "needs_background": "light"
     },
     "output_type": "execute_result"
    },
    {
     "name": "stdout",
     "output_type": "stream",
     "text": [
      "non0_07-11 Bulk Modulus 0.02717183489760422 1.9130893201749841\n",
      "non0_07-11 Shear Modulus 0.5328710705127113 0.8322199837290836\n",
      "non0_07-11 Shear Prime Modulus 0.5854618141947132 0.8078498508925259\n",
      "squ36_07-11 Bulk Modulus 0.03521471049350429 1.9020801927179525\n",
      "squ36_07-11 Shear Modulus 0.57001696268915 0.8067419366732257\n",
      "squ36_07-11 Shear Prime Modulus 0.5619567250262876 0.68173222238491\n",
      "squ64_07-12 Bulk Modulus 0.06984788330551561 1.8676645453458498\n",
      "squ64_07-12 Shear Modulus 0.5277499932889006 0.630338736925358\n",
      "squ64_07-12 Shear Prime Modulus 0.5298481504852932 0.5958909639413754\n"
     ]
    },
    {
     "name": "stdout",
     "output_type": "stream",
     "text": [
      "tri36_07-11 Bulk Modulus 0.03326436050813776 1.9565432517026635\n",
      "tri36_07-11 Shear Modulus 0.4918508272654901 0.7381753288779676\n",
      "tri36_07-11 Shear Prime Modulus 0.4922444309855385 0.6439036964846737\n",
      "tri64_07-12 Bulk Modulus 0.04119365557503418 1.9343404511311273\n",
      "tri64_07-12 Shear Modulus 0.4837847977590507 0.6616825757629851\n",
      "tri64_07-12 Shear Prime Modulus 0.5235790348717804 0.6757616785292121\n",
      "ran36_07-11 Bulk Modulus 0.028870370148554883 1.891828610342493\n",
      "ran36_07-11 Shear Modulus 0.5334700343696998 0.7029147265752075\n",
      "ran36_07-11 Shear Prime Modulus 0.5044168205659156 0.6550759082341624\n",
      "squ100_07-19 Bulk Modulus 0.09574477461212312 1.8563482038991366\n",
      "squ100_07-19 Shear Modulus 0.4545505089721201 0.6405194343975433\n"
     ]
    },
    {
     "name": "stdout",
     "output_type": "stream",
     "text": [
      "squ100_07-19 Shear Prime Modulus 0.5644258445738936 0.466192372052215\n",
      "tri100_07-19 Bulk Modulus 0.1447204229572242 1.863244387050109\n",
      "tri100_07-19 Shear Modulus 0.4863222061976169 0.3860779380222831\n",
      "tri100_07-19 Shear Prime Modulus 0.5776945448377203 0.4485683556259116\n",
      "ran100_07-19 Bulk Modulus 0.08734816715717597 1.8005384671532905\n",
      "ran100_07-19 Shear Modulus 0.37460285431397455 0.3138678800770332\n",
      "ran100_07-19 Shear Prime Modulus 0.5158293631159213 0.39584219910245333\n"
     ]
    },
    {
     "data": {
      "image/png": "[encoded data removed]",
      "text/plain": [
       "<Figure size 1296x432 with 3 Axes>"
      ]
     },
     "execution_count": 6,
     "metadata": {
      "image/png": {
       "height": 381,
       "width": 1068
      },
      "needs_background": "light"
     },
     "output_type": "execute_result"
    },
    {
     "name": "stdout",
     "output_type": "stream",
     "text": [
      "\n"
     ]
    }
   ],
   "source": [
    "import tqdm.notebook as tqdm\n",
    "files = ['non0_07-11', 'squ36_07-11', 'squ64_07-12', 'tri36_07-11', 'tri64_07-12', 'ran36_07-11', 'squ100_07-19', 'tri100_07-19', 'ran100_07-19']\n",
    "\n",
    "for cutoffPressure in tqdm.tqdm([0.1,2]):\n",
    "    fig,axes=plt.subplots(1,3, figsize=(18,6))\n",
    "    #fig, (ax1,ax2)=plt.subplots(2,1, figsize=(5,10))\n",
    "    for colorCounter, file in enumerate(files):\n",
    "        num_pins=int(file.split('_')[0][3:])\n",
    "        geo=file.split('_')[0][:3]\n",
    "        if geo=='non':\n",
    "            marker='C0X'\n",
    "        elif geo=='squ':\n",
    "            marker='C1s'\n",
    "        elif geo=='tri':\n",
    "            marker='C2^'\n",
    "        elif geo=='ran':\n",
    "            marker='C3d'\n",
    "        for ax, modulus, title in zip(axes, ['bulkModulus', 'cxyxy', 'shearPrimeModulus'], ['Bulk Modulus','Shear Modulus','Shear Prime Modulus']):\n",
    "            [slope_lo,intercept_lo], covariance_lo = sp.curve_fit(linear_fit,np.log10(dataDict[file].loc[dataDict[file].pressure<cutoffPressure,'pressure']), np.log10(dataDict[file].loc[dataDict[file].pressure<cutoffPressure,modulus]))\n",
    "            print(file, title, slope_lo, intercept_lo)\n",
    "            error_lo=np.sqrt(np.diag(covariance_lo))\n",
    "            ax.errorbar(num_pins/(num_pins+230), intercept_lo, yerr=error_lo[1], fmt=marker, capsize=3, alpha=0.6, label=geo)\n",
    "            #ax.set_ylim(-0.01,0.2)\n",
    "            ax.set_aspect(1./ax.get_data_ratio())\n",
    "            ax.set_title(title, fontsize=16)\n",
    "    handles, labels = plt.gca().get_legend_handles_labels()\n",
    "    handles = [h[0] if isinstance(h, matplotlib.container.ErrorbarContainer) else h for h in handles]\n",
    "    by_label = dict(zip(labels, handles))\n",
    "    axes[2].legend(by_label.values(), by_label.keys(), loc = 'upper right')\n",
    "    axes[1].set_xlabel('pin fraction')\n",
    "    axes[0].set_ylabel('intercept')\n",
    "    plt.suptitle('Affine Modulus Intercepts vs. Pin Fraction, Pressure < {cutoff}'.format(cutoff=cutoffPressure), y=0.94, fontsize=18)\n",
    "    #plt.savefig('plots/modulusIntercepts/affine-{cutoff:.3f}.png'.format(cutoff=cutoffPressure), dpi=500)\n",
    "    plt.show()"
   ]
  },
  {
   "cell_type": "code",
   "execution_count": 71,
   "metadata": {
    "collapsed": false
   },
   "outputs": [
   ],
   "source": [
    "from os import listdir\n",
    "import imageio\n",
    "image_list=[]\n",
    "for imageName in reversed(sorted(listdir('plots/presentation/bulkmodulus2'))):\n",
    "    image_list.append(imageio.imread('plots/presentation/bulkmodulus2/'+imageName))\n",
    "imageio.mimwrite('plots/presentation/bulkmodulus_animated.gif', image_list, duration = 0.3)"
   ]
  },
  {
   "cell_type": "markdown",
   "metadata": {
    "collapsed": false
   },
   "source": [
    "## 1.4. Elastic Moduli vs. Pressure\n",
    "Combining data sets with similar parameters and lattice structures, curve fitting as one big data set with a high and low pressure fit for each modulus"
   ]
  },
  {
   "cell_type": "code",
   "execution_count": 70,
   "metadata": {
    "collapsed": false
   },
   "outputs": [
    {
     "data": {
      "image/png": "[encoded data removed]",
      "text/plain": [
       "<Figure size 864x864 with 3 Axes>"
      ]
     },
     "execution_count": 70,
     "metadata": {
      "image/png": {
       "height": 821,
       "width": 855
      },
      "needs_background": "light"
     },
     "output_type": "execute_result"
    }
   ],
   "source": [
    "data=pd.concat([nonLo,nonHi])\n",
    "fig=plt.figure(figsize=(12,12)) # Initialize large square for all three subplots\n",
    "cutoffPressure=0.07\n",
    "regressResult=[]\n",
    "\n",
    "\n",
    "# Plot 1: Bulk Modulus\n",
    "ax1 = fig.add_subplot(2,2,1) # initilalize axes\n",
    "regressResult.append('Bulk Modulus:')\n",
    "[slope,intercept], covariance = sp.curve_fit(linear_fit,np.log10(data.loc[data.pressure>cutoffPressure,'pressure']), np.log10(data.loc[data.pressure>cutoffPressure,'bulkModulus'])) # run linear regression\n",
    "error=np.sqrt(np.diag(covariance))\n",
    "plt.loglog(nonLo['pressure'],nonLo['bulkModulus'],'.',alpha=0.2, label = \"6-30 data\", color = 'C2')\n",
    "[slope1,intercept1], covariance1 = sp.curve_fit(linear_fit,np.log10(data.loc[data.pressure<cutoffPressure,'pressure']), np.log10(data.loc[data.pressure<cutoffPressure,'bulkModulus'])) # run linear regression on data\n",
    "error1=np.sqrt(np.diag(covariance1))\n",
    "plt.loglog(nonHi['pressure'],nonHi['bulkModulus'],'.',alpha=0.2, label = \"6-20 data\", color = 'C4')\n",
    "RMS=np.sqrt(sum((data.loc[data.pressure>cutoffPressure,'bulkModulus']-data.loc[data.pressure>cutoffPressure,'pressure']**slope*10**intercept)**2)/len(data[data.pressure>cutoffPressure]))\n",
    "regressResult.append('RMS_hi: {R:.4f}'.format(R=RMS))\n",
    "RMS1=np.sqrt(sum((data.loc[data.pressure<cutoffPressure,'bulkModulus']-data.loc[data.pressure<cutoffPressure,'pressure']**slope1*10**intercept1)**2)/len(data[data.pressure<cutoffPressure]))\n",
    "regressResult.append('RMS_low: {R:.4f}'.format(R=RMS1))\n",
    "ax1.set(aspect='equal',adjustable='datalim')\n",
    "plt.title('bulk modulus vs. pressure')\n",
    "plt.xlabel('pressure')\n",
    "plt.ylabel('bulk modulus')\n",
    "xValues=np.array(plt.xlim())\n",
    "yValues=xValues**slope*10**intercept\n",
    "plt.plot(xValues,yValues,color='C0', label='hi pressure, slope = {bm:.3f} +/- {err:.3f}'.format(bm=slope, err=error[0]))\n",
    "xValues1=np.array(plt.xlim()) # get minimum and maximum x values\n",
    "yValues1=xValues1**slope1*10**intercept1 # calculate corresponding line\n",
    "plt.plot(xValues1,yValues1,color='C1',label='lo pressure, slope = {bm:.3f} +/- {err:.3f}'.format(bm=slope1, err=error1[0]))\n",
    "plt.legend()\n",
    "\n",
    "# Plot 2: Shear Modulus\n",
    "ax2 = fig.add_subplot(2,2,2)\n",
    "regressResult.append('Shear Modulus:')\n",
    "[slope,intercept], covariance = sp.curve_fit(linear_fit,np.log10(data.loc[data.pressure>cutoffPressure,'pressure']), np.log10(data.loc[data.pressure>cutoffPressure,'cxyxy'])) # run linear regression on data\n",
    "error=np.sqrt(np.diag(covariance))\n",
    "plt.loglog(nonLo['pressure'],nonLo['cxyxy'],'.',alpha=0.2, label = \"6-30 data\", color = 'C2')\n",
    "[slope1,intercept1], covariance1 = sp.curve_fit(linear_fit,np.log10(data.loc[data.pressure<cutoffPressure,'pressure']), np.log10(data.loc[data.pressure<cutoffPressure,'cxyxy'])) # run linear regression on data\n",
    "error1=np.sqrt(np.diag(covariance1))\n",
    "plt.loglog(nonHi['pressure'],nonHi['cxyxy'],'.',alpha=0.2, label = \"6-20 data\", color = 'C4')\n",
    "RMS=np.sqrt(sum((data.loc[data.pressure>cutoffPressure,'cxyxy']-data.loc[data.pressure>cutoffPressure,'pressure']**slope*10**intercept)**2)/len(data[data.pressure>cutoffPressure]))\n",
    "regressResult.append('RMS_hi: {R:.4f}'.format(R=RMS))\n",
    "RMS1=np.sqrt(sum((data.loc[data.pressure<cutoffPressure,'cxyxy']-data.loc[data.pressure<cutoffPressure,'pressure']**slope1*10**intercept1)**2)/len(data[data.pressure<cutoffPressure]))\n",
    "regressResult.append('RMS_low: {R:.4f}'.format(R=RMS1))\n",
    "ax2.set(aspect='equal',adjustable='datalim')\n",
    "plt.title('shear modulus vs. pressure')\n",
    "plt.xlabel('pressure')\n",
    "plt.ylabel('shear modulus')\n",
    "xValues=np.array(plt.xlim())\n",
    "yValues=xValues**slope*10**intercept\n",
    "plt.plot(xValues,yValues,color='C0', label='hi pressure, slope = {sm:.3f} +/- {err:.3f}'.format(sm=slope, err=error[0]))\n",
    "xValues1=np.array(plt.xlim()) # get minimum and maximum x values\n",
    "yValues1=xValues1**slope1*10**intercept1 # calculate corresponding line\n",
    "plt.plot(xValues1,yValues1,color='C1',label='lo pressure, slope = {sm:.3f} +/- {err:.3f}'.format(sm=slope1, err=error1[0]))\n",
    "plt.legend()\n",
    "\n",
    "\n",
    "# Plot 3: Shear Prime Modulus\n",
    "ax3 = fig.add_subplot(2,2,3)\n",
    "regressResult.append('Shear Prime Modulus:')\n",
    "[slope,intercept], covariance = sp.curve_fit(linear_fit,np.log10(data.loc[data.pressure>cutoffPressure,'pressure']), np.log10(data.loc[data.pressure>cutoffPressure,'shearPrimeModulus'])) # run linear regression on data\n",
    "error=np.sqrt(np.diag(covariance))\n",
    "plt.loglog(nonLo['pressure'],nonLo['shearPrimeModulus'],'.',alpha=0.2, label = \"6-30 data\", color = 'C2')\n",
    "[slope1,intercept1], covariance1 = sp.curve_fit(linear_fit,np.log10(data.loc[data.pressure<cutoffPressure,'pressure']), np.log10(data.loc[data.pressure<cutoffPressure,'shearPrimeModulus'])) # run linear regression on data\n",
    "error1=np.sqrt(np.diag(covariance1))\n",
    "plt.loglog(nonHi['pressure'],nonHi['shearPrimeModulus'],'.',alpha=0.2, label = \"6-20 data\", color = 'C4')\n",
    "RMS=np.sqrt(sum((data.loc[data.pressure>cutoffPressure,'shearPrimeModulus']-data.loc[data.pressure>cutoffPressure,'pressure']**slope*10**intercept)**2)/len(data[data.pressure>cutoffPressure]))\n",
    "regressResult.append('RMS_hi: {R:.4f}'.format(R=RMS))\n",
    "RMS1=np.sqrt(sum((data.loc[data.pressure<cutoffPressure,'shearPrimeModulus']-data.loc[data.pressure<cutoffPressure,'pressure']**slope1*10**intercept1)**2)/len(data[data.pressure<cutoffPressure]))\n",
    "regressResult.append('RMS_low: {R:.4f}'.format(R=RMS1))\n",
    "ax2.set(aspect='equal',adjustable='datalim')\n",
    "plt.title('shear prime modulus vs. pressure')\n",
    "plt.xlabel('pressure')\n",
    "plt.ylabel('shear prime modulus')\n",
    "xValues=np.array(plt.xlim())\n",
    "yValues=xValues**slope*10**intercept\n",
    "plt.plot(xValues,yValues,color='C0', label='hi pressure, slope = {spm:.3f} +/- {err:.3f}'.format(spm=slope, err=error[0]))\n",
    "xValues1=np.array(plt.xlim()) # get minimum and maximum x values\n",
    "yValues1=xValues1**slope1*10**intercept1 # calculate corresponding line\n",
    "plt.plot(xValues1,yValues1,color='C1', label='lo pressure, slope = {spm:.3f} +/- {err:.3f}'.format(spm=slope1, err=error1[0])) # plot line by start and end points\n",
    "plt.legend()\n",
    "\n",
    "fig.suptitle('920 particle no pin 6-30 and 6-20', x=0.5,y=0.95, fontsize=16) # title of entire figure\n",
    "plt.figtext(0.97,0.25,'\\n'.join(regressResult), ha='right', fontsize=12)\n",
    "plt.tight_layout()\n",
    "plt.subplots_adjust(top=0.9)\n",
    "#plt.savefig('plots/elasticModuli-920-noPin-separated.png', dpi=300)\n",
    "plt.show()"
   ]
  },
  {
   "cell_type": "markdown",
   "metadata": {
    "collapsed": false
   },
   "source": [
    "## 1.6. Elastic Moduli vs. $\\Delta$z for Different Pin Densities, Same Lattice"
   ]
  },
  {
   "cell_type": "code",
   "execution_count": 8,
   "metadata": {
    "collapsed": false
   },
   "outputs": [
    {
     "name": "stdout",
     "output_type": "stream",
     "text": [
      "non0_07-11 0.7366815685540449\n",
      "squ36_07-11 0.9275198187092655\n",
      "squ64_07-12 0.5677778116751628\n",
      "tri36_07-11 0.8508958678511225\n",
      "tri64_07-12 0.594946153071459\n",
      "ran36_07-11 0.7690083827918766\n",
      "squ100_07-19 0.6056993729187458\n"
     ]
    },
    {
     "name": "stdout",
     "output_type": "stream",
     "text": [
      "tri100_07-19 0.2136115041252904\n",
      "ran100_07-19 0.20354630171282506\n"
     ]
    },
    {
     "data": {
      "text/plain": [
       "Text(0.5, 0.93, 'Elastic Moduli vs. Pressure for July Data')"
      ]
     },
     "execution_count": 8,
     "metadata": {
     },
     "output_type": "execute_result"
    },
    {
     "data": {
      "image/png": "[encoded data removed]",
      "text/plain": [
       "<Figure size 1296x432 with 3 Axes>"
      ]
     },
     "execution_count": 8,
     "metadata": {
      "image/png": {
       "height": 393,
       "width": 1062
      },
      "needs_background": "light"
     },
     "output_type": "execute_result"
    }
   ],
   "source": [
    "def merge_data(file, data):\n",
    "    # gets corresponding pressures.txt file and adds delta z columns to each trial.\n",
    "    filePath=file.split('/')\n",
    "    filePath[-1]=filePath[-1].replace('Info','Pressures')\n",
    "    trialPressures=pd.read_csv('/'.join(filePath), sep=' ', index_col=0, usecols=['trialName','delta_z'])\n",
    "\n",
    "    minPressures=data.loc[data.groupby(['seed','r_small'], as_index=False)['pressure'].idxmin()]\n",
    "\n",
    "    minPressures.index=minPressures.apply(lambda x: '{}-{}-{}-{}-{}-{}'.format(*[str(x[key]) for key in ['geometry','seed','num_total','num_pins','r_small','a']]), axis=1)\n",
    "    minPressures.index.name='trialName'\n",
    "    minPressures=minPressures.merge(trialPressures, on='trialName',how='left')\n",
    "    minPressures=minPressures[minPressures.delta_z>0]\n",
    "    return minPressures\n",
    "\n",
    "#minPressureDict={file:merge_data(filenames[file],dataDict[file]) for file in files}\n",
    "minPressureDict={file:dataDict[file] for file in files}\n",
    "fig=plt.figure(figsize=(18,6)) # Initialize large square for all three subplots\n",
    "cutoffPressure=0.1\n",
    "\n",
    "regressResult=[]\n",
    "# Plot 1: Bulk Modulus\n",
    "regressResult.append('Bulk Modulus:')\n",
    "ax1 = fig.add_subplot(1,3,1) # initilalize axes\n",
    "ax1.set_xlim(6.8e-5,1.38)\n",
    "# linear regression\n",
    "for colorCounter, file in enumerate(files):\n",
    "    minPressures=minPressureDict[file]\n",
    "    pinDensity=minPressures['num_pins'].iloc[0]/(minPressures['num_total'].iloc[0]-minPressures['num_pins'].iloc[0])\n",
    "    plt.loglog(minPressures['pressure'],minPressures['bulkModulus'], '.', alpha=0.3,color='C{}'.format(colorCounter))\n",
    "    [avgSlope,avgIntercept], avgCovariance = sp.curve_fit(linear_fit,np.log10(minPressures['pressure']), np.log10(minPressures['bulkModulus']))\n",
    "    avgError=np.sqrt(np.diag(avgCovariance))\n",
    "\n",
    "    [slope_hi,intercept_hi], covariance_hi = sp.curve_fit(linear_fit,np.log10(minPressures.loc[minPressures.pressure>cutoffPressure,'pressure']), np.log10(minPressures.loc[minPressures.pressure>cutoffPressure,'bulkModulus']))\n",
    "    error_hi=np.sqrt(np.diag(covariance_hi)) # find error on parameters\n",
    "    [slope_lo,intercept_lo], covariance_lo = sp.curve_fit(linear_fit,np.log10(minPressures.loc[minPressures.pressure<cutoffPressure,'pressure']), np.log10(minPressures.loc[minPressures.pressure<cutoffPressure,'bulkModulus']))\n",
    "    error_lo=np.sqrt(np.diag(covariance_lo))\n",
    "    RMS_hi=np.sqrt(sum((minPressures.loc[minPressures.pressure>cutoffPressure,'bulkModulus']-minPressures.loc[minPressures.pressure>cutoffPressure,'pressure']**slope_hi*10**intercept_hi)**2)/len(minPressures[minPressures.pressure>cutoffPressure]))\n",
    "    RMS_lo=np.sqrt(sum((minPressures.loc[minPressures.pressure<cutoffPressure,'bulkModulus']-minPressures.loc[minPressures.pressure<cutoffPressure,'pressure']**slope_lo*10**intercept_lo)**2)/len(minPressures[minPressures.pressure<cutoffPressure]))\n",
    "\n",
    "    #regressResult.append('RMS_low: {R:.4f}'.format(R=RMS1))\n",
    "\n",
    "    xValues=np.array(plt.xlim())\n",
    "    yValues=xValues**slope_lo*10**intercept_lo\n",
    "    plt.plot(xValues,yValues,color='C{}'.format(colorCounter), label='slope = {bm:.3f}+/-{err:.3f}'.format(bm=slope_lo,err=error_lo[0]))\n",
    "# cosmetics\n",
    "ax1.set(aspect='equal',adjustable='datalim')\n",
    "plt.title('bulk modulus vs. pressure')\n",
    "plt.xlabel('pressure')\n",
    "plt.ylabel('bulk modulus')\n",
    "plt.legend()\n",
    "\n",
    "# Plot 2: Shear Modulus\n",
    "regressResult.append('Shear Modulus:')\n",
    "ax2 = fig.add_subplot(1,3,2) # initilalize axes\n",
    "ax2.set_xlim(6.8e-5,1.38)\n",
    "# linear regression\n",
    "for colorCounter, file in enumerate(files):\n",
    "    minPressures=minPressureDict[file]\n",
    "    pinDensity=minPressures['num_pins'].iloc[0]/(minPressures['num_total'].iloc[0]-minPressures['num_pins'].iloc[0])\n",
    "    plt.loglog(minPressures['pressure'],minPressures['cxyxy'], '.', alpha=0.3,color='C{}'.format(colorCounter))\n",
    "    [avgSlope,avgIntercept], avgCovariance = sp.curve_fit(linear_fit,np.log10(minPressures['pressure']), np.log10(minPressures['cxyxy']))\n",
    "    avgError=np.sqrt(np.diag(avgCovariance))\n",
    "\n",
    "    [slope_hi,intercept_hi], covariance_hi = sp.curve_fit(linear_fit,np.log10(minPressures.loc[minPressures.pressure>cutoffPressure,'pressure']), np.log10(minPressures.loc[minPressures.pressure>cutoffPressure,'cxyxy']))\n",
    "    error_hi=np.sqrt(np.diag(covariance_hi)) # find error on parameters\n",
    "    [slope_lo,intercept_lo], covariance_lo = sp.curve_fit(linear_fit,np.log10(minPressures.loc[minPressures.pressure<cutoffPressure,'pressure']), np.log10(minPressures.loc[minPressures.pressure<cutoffPressure,'cxyxy']))\n",
    "    error_lo=np.sqrt(np.diag(covariance_lo))\n",
    "    print(file, intercept_lo)\n",
    "    RMS_hi=np.sqrt(sum((minPressures.loc[minPressures.pressure>cutoffPressure,'cxyxy']-minPressures.loc[minPressures.pressure>cutoffPressure,'pressure']**slope_hi*10**intercept_hi)**2)/len(minPressures[minPressures.pressure>cutoffPressure]))\n",
    "    RMS_lo=np.sqrt(sum((minPressures.loc[minPressures.pressure<cutoffPressure,'cxyxy']-minPressures.loc[minPressures.pressure<cutoffPressure,'pressure']**slope_lo*10**intercept_lo)**2)/len(minPressures[minPressures.pressure<cutoffPressure]))\n",
    "\n",
    "    #regressResult.append('RMS_low: {R:.4f}'.format(R=RMS1))\n",
    "\n",
    "    xValues=np.array(plt.xlim())\n",
    "    yValues=xValues**slope_lo*10**intercept_lo\n",
    "    plt.plot(xValues,yValues,color='C{}'.format(colorCounter), label='slope = {bm:.3f}+/-{err:.3f}'.format(bm=slope_lo,err=error_lo[0]))\n",
    "# cosmetics\n",
    "ax2.set(aspect='equal',adjustable='datalim')\n",
    "plt.title('shear modulus vs. pressure')\n",
    "plt.xlabel('pressure')\n",
    "plt.ylabel('shear modulus')\n",
    "plt.legend()\n",
    "\n",
    "# Plot 3: Shear Prime Modulus\n",
    "regressResult.append('Shear Prime Modulus:')\n",
    "ax3 = fig.add_subplot(1,3,3) # initilalize axes\n",
    "ax3.set_xlim(6.8e-5,1.38)\n",
    "# linear regression\n",
    "for colorCounter, file in enumerate(files):\n",
    "    minPressures=minPressureDict[file]\n",
    "    pinDensity=minPressures['num_pins'].iloc[0]/(minPressures['num_total'].iloc[0]-minPressures['num_pins'].iloc[0])\n",
    "    plt.loglog(minPressures['pressure'],minPressures['shearPrimeModulus'], '.', alpha=0.3,color='C{}'.format(colorCounter))\n",
    "    [avgSlope,avgIntercept], avgCovariance = sp.curve_fit(linear_fit,np.log10(minPressures['pressure']), np.log10(minPressures['shearPrimeModulus']))\n",
    "    avgError=np.sqrt(np.diag(avgCovariance))\n",
    "\n",
    "    [slope_hi,intercept_hi], covariance_hi = sp.curve_fit(linear_fit,np.log10(minPressures.loc[minPressures.pressure>cutoffPressure,'pressure']), np.log10(minPressures.loc[minPressures.pressure>cutoffPressure,'shearPrimeModulus']))\n",
    "    error_hi=np.sqrt(np.diag(covariance_hi)) # find error on parameters\n",
    "    [slope_lo,intercept_lo], covariance_lo = sp.curve_fit(linear_fit,np.log10(minPressures.loc[minPressures.pressure<cutoffPressure,'pressure']), np.log10(minPressures.loc[minPressures.pressure<cutoffPressure,'shearPrimeModulus']))\n",
    "    error_lo=np.sqrt(np.diag(covariance_lo))\n",
    "    RMS_hi=np.sqrt(sum((minPressures.loc[minPressures.pressure>cutoffPressure,'shearPrimeModulus']-minPressures.loc[minPressures.pressure>cutoffPressure,'pressure']**slope_hi*10**intercept_hi)**2)/len(minPressures[minPressures.pressure>cutoffPressure]))\n",
    "    RMS_lo=np.sqrt(sum((minPressures.loc[minPressures.pressure<cutoffPressure,'shearPrimeModulus']-minPressures.loc[minPressures.pressure<cutoffPressure,'pressure']**slope_lo*10**intercept_lo)**2)/len(minPressures[minPressures.pressure<cutoffPressure]))\n",
    "\n",
    "    #regressResult.append('RMS_low: {R:.4f}'.format(R=RMS1))\n",
    "\n",
    "    xValues=np.array(plt.xlim())\n",
    "    yValues=xValues**slope_lo*10**intercept_lo\n",
    "    plt.plot(xValues,yValues,color='C{}'.format(colorCounter), label='slope = {bm:.3f}+/-{err:.3f}'.format(bm=slope_lo,err=error_lo[0]))\n",
    "# cosmetics\n",
    "ax3.set(aspect='equal',adjustable='datalim')\n",
    "plt.title('shear prime modulus vs. pressure')\n",
    "plt.xlabel('pressure')\n",
    "plt.ylabel('G\\' modulus')\n",
    "plt.legend()\n",
    "plt.subplots_adjust(top=0.85)\n",
    "\n",
    "#plt.figtext(0.8,0.25,'\\n'.join(regressResult), ha='right', fontsize=12)\n",
    "plt.suptitle('Elastic Moduli vs. Pressure for July Data',x=0.5,y=0.93, fontsize = 16)\n",
    "\n",
    "#plt.savefig('plots/presentation/elastic_moduli-non.png', dpi=300)"
   ]
  },
  {
   "cell_type": "code",
   "execution_count": 78,
   "metadata": {
    "collapsed": false
   },
   "outputs": [
    {
     "data": {
      "text/plain": [
       "Text(0.5, 0.93, 'Affine Elastic Moduli vs. $\\\\Delta Z$ for non/tri lattice, July 2020, fitting p<0.07')"
      ]
     },
     "execution_count": 78,
     "metadata": {
     },
     "output_type": "execute_result"
    },
    {
     "data": {
      "image/png": "[encoded data removed]",
      "text/plain": [
       "<Figure size 1296x432 with 3 Axes>"
      ]
     },
     "execution_count": 78,
     "metadata": {
      "image/png": {
       "height": 397,
       "width": 1089
      },
      "needs_background": "light"
     },
     "output_type": "execute_result"
    }
   ],
   "source": [
    "def merge_data(file, data):\n",
    "    # gets corresponding pressures.txt file and adds delta z columns to each trial.\n",
    "    filePath=file.split('/')\n",
    "    filePath[-1]=filePath[-1].replace('Info','Pressures')\n",
    "    trialPressures=pd.read_csv('/'.join(filePath), sep=' ', index_col=0, usecols=['trialName','delta_z'])\n",
    "\n",
    "    minPressures=data.loc[data.groupby(['seed','r_small'], as_index=False)['pressure'].idxmin()]\n",
    "\n",
    "    minPressures.index=minPressures.apply(lambda x: '{}-{}-{}-{}-{}-{}'.format(*[str(x[key]) for key in ['geometry','seed','num_total','num_pins','r_small','a']]), axis=1)\n",
    "    minPressures.index.name='trialName'\n",
    "    minPressures=minPressures.merge(trialPressures, on='trialName',how='left')\n",
    "    minPressures=minPressures[minPressures.delta_z>0]\n",
    "    return minPressures\n",
    "\n",
    "files=['non0_07-11','squ36_07-11','squ64_07-12']\n",
    "\n",
    "minPressureDict={file:merge_data(filenames[file],dataDict[file]) for file in files}\n",
    "fig=plt.figure(figsize=(18,6)) # Initialize large square for all three subplots\n",
    "cutoffPressure=0.07\n",
    "\n",
    "regressResult=[]\n",
    "\n",
    "# Plot 1: Bulk Modulus\n",
    "regressResult.append('Bulk Modulus:')\n",
    "ax1 = fig.add_subplot(1,3,1) # initilalize axes\n",
    "ax1.set_xlim(6.8e-5,1.38)\n",
    "# linear regression\n",
    "for colorCounter, file in enumerate(files):\n",
    "    minPressures=minPressureDict[file]\n",
    "    pinDensity=minPressures['num_pins'].iloc[0]/(minPressures['num_total'].iloc[0]-minPressures['num_pins'].iloc[0])\n",
    "    plt.loglog(minPressures['delta_z'],minPressures['aBulkModulus'], '.', alpha=0.15,color='C{}'.format(colorCounter))\n",
    "    [avgSlope,avgIntercept], avgCovariance = sp.curve_fit(linear_fit,np.log10(minPressures['delta_z']), np.log10(minPressures['aBulkModulus']))\n",
    "    avgError=np.sqrt(np.diag(avgCovariance))\n",
    "\n",
    "    [slope_hi,intercept_hi], covariance_hi = sp.curve_fit(linear_fit,np.log10(minPressures.loc[minPressures.pressure>cutoffPressure,'delta_z']), np.log10(minPressures.loc[minPressures.pressure>cutoffPressure,'aBulkModulus']))\n",
    "    error_hi=np.sqrt(np.diag(covariance_hi)) # find error on parameters\n",
    "    [slope_lo,intercept_lo], covariance_lo = sp.curve_fit(linear_fit,np.log10(minPressures.loc[minPressures.pressure<cutoffPressure,'delta_z']), np.log10(minPressures.loc[minPressures.pressure<cutoffPressure,'aBulkModulus']))\n",
    "    error_lo=np.sqrt(np.diag(covariance_lo))\n",
    "    RMS_hi=np.sqrt(sum((minPressures.loc[minPressures.pressure>cutoffPressure,'aBulkModulus']-minPressures.loc[minPressures.pressure>cutoffPressure,'delta_z']**slope_hi*10**intercept_hi)**2)/len(minPressures[minPressures.pressure>cutoffPressure]))\n",
    "    RMS_lo=np.sqrt(sum((minPressures.loc[minPressures.pressure<cutoffPressure,'aBulkModulus']-minPressures.loc[minPressures.pressure<cutoffPressure,'delta_z']**slope_lo*10**intercept_lo)**2)/len(minPressures[minPressures.pressure<cutoffPressure]))\n",
    "\n",
    "    #regressResult.append('RMS_low: {R:.4f}'.format(R=RMS1))\n",
    "\n",
    "    xValues=np.array(plt.xlim())\n",
    "    yValues=xValues**slope_lo*10**intercept_lo\n",
    "    plt.plot(xValues,yValues,color='C{}'.format(colorCounter), label='{file} n_f: {n_f:.3f}, slope = {bm:.3f}+/-{err:.3f}'.format(file=file, n_f=pinDensity,bm=slope_lo,err=error_lo[0]))\n",
    "# cosmetics\n",
    "#ax1.set(aspect='equal',adjustable='datalim')\n",
    "plt.title('affine bulk modulus vs. $\\Delta Z$')\n",
    "plt.xlabel('$\\Delta$Z')\n",
    "plt.ylabel('affine bulk modulus')\n",
    "plt.legend()\n",
    "\n",
    "# Plot 2: Shear Modulus\n",
    "regressResult.append('Shear Modulus:')\n",
    "ax2 = fig.add_subplot(1,3,2) # initilalize axes\n",
    "ax2.set_xlim(6.8e-5,1.38)\n",
    "# linear regression\n",
    "for colorCounter, file in enumerate(files):\n",
    "    minPressures=minPressureDict[file]\n",
    "    pinDensity=minPressures['num_pins'].iloc[0]/(minPressures['num_total'].iloc[0]-minPressures['num_pins'].iloc[0])\n",
    "    plt.loglog(minPressures['delta_z'],minPressures['axyxy'], '.', alpha=0.15,color='C{}'.format(colorCounter))\n",
    "    [avgSlope,avgIntercept], avgCovariance = sp.curve_fit(linear_fit,np.log10(minPressures['delta_z']), np.log10(minPressures['axyxy']))\n",
    "    avgError=np.sqrt(np.diag(avgCovariance))\n",
    "\n",
    "    [slope_hi,intercept_hi], covariance_hi = sp.curve_fit(linear_fit,np.log10(minPressures.loc[minPressures.pressure>cutoffPressure,'delta_z']), np.log10(minPressures.loc[minPressures.pressure>cutoffPressure,'axyxy']))\n",
    "    error_hi=np.sqrt(np.diag(covariance_hi)) # find error on parameters\n",
    "    [slope_lo,intercept_lo], covariance_lo = sp.curve_fit(linear_fit,np.log10(minPressures.loc[minPressures.pressure<cutoffPressure,'delta_z']), np.log10(minPressures.loc[minPressures.pressure<cutoffPressure,'axyxy']))\n",
    "    error_lo=np.sqrt(np.diag(covariance_lo))\n",
    "    RMS_hi=np.sqrt(sum((minPressures.loc[minPressures.pressure>cutoffPressure,'axyxy']-minPressures.loc[minPressures.pressure>cutoffPressure,'delta_z']**slope_hi*10**intercept_hi)**2)/len(minPressures[minPressures.pressure>cutoffPressure]))\n",
    "    RMS_lo=np.sqrt(sum((minPressures.loc[minPressures.pressure<cutoffPressure,'axyxy']-minPressures.loc[minPressures.pressure<cutoffPressure,'delta_z']**slope_lo*10**intercept_lo)**2)/len(minPressures[minPressures.pressure<cutoffPressure]))\n",
    "\n",
    "    #regressResult.append('RMS_low: {R:.4f}'.format(R=RMS1))\n",
    "\n",
    "    xValues=np.array(plt.xlim())\n",
    "    yValues=xValues**slope_lo*10**intercept_lo\n",
    "    plt.plot(xValues,yValues,color='C{}'.format(colorCounter), label='{file}, n_f: {n_f:.3f}, slope = {bm:.3f}+/-{err:.3f}'.format(file=file, n_f=pinDensity,bm=slope_lo,err=error_lo[0]))\n",
    "# cosmetics\n",
    "#ax1.set(aspect='equal',adjustable='datalim')\n",
    "plt.title('affine shear modulus vs. $\\Delta Z$')\n",
    "plt.xlabel('$\\Delta$Z')\n",
    "plt.ylabel('affine shear modulus')\n",
    "plt.legend()\n",
    "\n",
    "# Plot 3: Shear Prime Modulus\n",
    "regressResult.append('Shear Prime Modulus:')\n",
    "ax3 = fig.add_subplot(1,3,3) # initilalize axes\n",
    "ax3.set_xlim(6.8e-5,1.38)\n",
    "# linear regression\n",
    "for colorCounter, file in enumerate(files):\n",
    "    minPressures=minPressureDict[file]\n",
    "    pinDensity=minPressures['num_pins'].iloc[0]/(minPressures['num_total'].iloc[0]-minPressures['num_pins'].iloc[0])\n",
    "    plt.loglog(minPressures['delta_z'],minPressures['aShearPrimeModulus'], '.', alpha=0.15,color='C{}'.format(colorCounter))\n",
    "    [avgSlope,avgIntercept], avgCovariance = sp.curve_fit(linear_fit,np.log10(minPressures['delta_z']), np.log10(minPressures['aShearPrimeModulus']))\n",
    "    avgError=np.sqrt(np.diag(avgCovariance))\n",
    "\n",
    "    [slope_hi,intercept_hi], covariance_hi = sp.curve_fit(linear_fit,np.log10(minPressures.loc[minPressures.pressure>cutoffPressure,'delta_z']), np.log10(minPressures.loc[minPressures.pressure>cutoffPressure,'aShearPrimeModulus']))\n",
    "    error_hi=np.sqrt(np.diag(covariance_hi)) # find error on parameters\n",
    "    [slope_lo,intercept_lo], covariance_lo = sp.curve_fit(linear_fit,np.log10(minPressures.loc[minPressures.pressure<cutoffPressure,'delta_z']), np.log10(minPressures.loc[minPressures.pressure<cutoffPressure,'aShearPrimeModulus']))\n",
    "    error_lo=np.sqrt(np.diag(covariance_lo))\n",
    "    RMS_hi=np.sqrt(sum((minPressures.loc[minPressures.pressure>cutoffPressure,'aShearPrimeModulus']-minPressures.loc[minPressures.pressure>cutoffPressure,'delta_z']**slope_hi*10**intercept_hi)**2)/len(minPressures[minPressures.pressure>cutoffPressure]))\n",
    "    RMS_lo=np.sqrt(sum((minPressures.loc[minPressures.pressure<cutoffPressure,'aShearPrimeModulus']-minPressures.loc[minPressures.pressure<cutoffPressure,'delta_z']**slope_lo*10**intercept_lo)**2)/len(minPressures[minPressures.pressure<cutoffPressure]))\n",
    "\n",
    "    #regressResult.append('RMS_low: {R:.4f}'.format(R=RMS1))\n",
    "\n",
    "    xValues=np.array(plt.xlim())\n",
    "    yValues=xValues**slope_lo*10**intercept_lo\n",
    "    plt.plot(xValues,yValues,color='C{}'.format(colorCounter), label='{file} n_f: {n_f:.3f}, slope = {bm:.3f}+/-{err:.3f}'.format(file=file, n_f=pinDensity,bm=slope_lo,err=error_lo[0]))\n",
    "    plt.axvline(x=cutoffPressure)\n",
    "# cosmetics\n",
    "#ax1.set(aspect='equal',adjustable='datalim')\n",
    "plt.title('affine shear prime modulus vs. $\\Delta Z$')\n",
    "plt.xlabel('$\\Delta$Z')\n",
    "plt.ylabel('affine G\\' modulus')\n",
    "plt.legend()\n",
    "\n",
    "plt.subplots_adjust(top=0.9)\n",
    "#plt.figtext(0.8,0.25,'\\n'.join(regressResult), ha='right', fontsize=12)\n",
    "plt.suptitle('Affine Elastic Moduli vs. $\\Delta Z$ for non/tri lattice, July 2020, fitting p<{}'.format(cutoffPressure),x=0.5,y=0.93, fontsize = 16)\n",
    "\n",
    "#plt.savefig('plots/affine_elasticmoduli-deltaz-tri-july2020.png', dpi=300)"
   ]
  },
  {
   "cell_type": "code",
   "execution_count": 88,
   "metadata": {
    "collapsed": false
   },
   "outputs": [
    {
     "data": {
      "image/png": "[encoded data removed]",
      "text/plain": [
       "<Figure size 1296x432 with 3 Axes>"
      ]
     },
     "execution_count": 88,
     "metadata": {
      "image/png": {
       "height": 420,
       "width": 1287
      },
      "needs_background": "light"
     },
     "output_type": "execute_result"
    }
   ],
   "source": [
    "def merge_data(file, data):\n",
    "    # gets corresponding pressures.txt file and adds delta z columns to each trial.\n",
    "    filePath=file.split('/')\n",
    "    filePath[-1]=filePath[-1].replace('Info','Pressures')\n",
    "    trialPressures=pd.read_csv('/'.join(filePath), sep=' ', index_col=0, usecols=['trialName','delta_z'])\n",
    "\n",
    "    minPressures=data.loc[data.groupby(['seed','r_small'], as_index=False)['pressure'].idxmin()]\n",
    "\n",
    "    minPressures.index=minPressures.apply(lambda x: '{}-{}-{}-{}-{}-{}'.format(*[str(x[key]) for key in ['geometry','seed','num_total','num_pins','r_small','a']]), axis=1)\n",
    "    minPressures.index.name='trialName'\n",
    "    minPressures=minPressures.merge(trialPressures, on='trialName',how='left')\n",
    "    minPressures=minPressures[minPressures.delta_z>0]\n",
    "    return minPressures\n",
    "\n",
    "files=['non0_07-11','squ36_07-11','squ64_07-12']\n",
    "\n",
    "minPressureDict={file:merge_data(filenames[file],dataDict[file]) for file in files}\n",
    "fig=plt.figure(figsize=(18,6)) # Initialize large square for all three subplots\n",
    "cutoffPressure=0.1\n",
    "\n",
    "regressResult=[]\n",
    "\n",
    "# Plot 1: Bulk Modulus\n",
    "regressResult.append('Bulk Modulus:')\n",
    "ax1 = fig.add_subplot(1,3,1) # initilalize axes\n",
    "ax1.set_xlim(6.8e-5,1.38)\n",
    "# linear regression\n",
    "for colorCounter, file in enumerate(files):\n",
    "    minPressures=minPressureDict[file]\n",
    "    pinDensity=minPressures['num_pins'].iloc[0]/(minPressures['num_total'].iloc[0]-minPressures['num_pins'].iloc[0])\n",
    "    plt.loglog(minPressures['pressure'],minPressures['aBulkModulus'], '.', alpha=0.3,color='C{}'.format(colorCounter))\n",
    "    [avgSlope,avgIntercept], avgCovariance = sp.curve_fit(linear_fit,np.log10(minPressures['pressure']), np.log10(minPressures['aBulkModulus']))\n",
    "    avgError=np.sqrt(np.diag(avgCovariance))\n",
    "\n",
    "    [slope_hi,intercept_hi], covariance_hi = sp.curve_fit(linear_fit,np.log10(minPressures.loc[minPressures.pressure>cutoffPressure,'pressure']), np.log10(minPressures.loc[minPressures.pressure>cutoffPressure,'aBulkModulus']))\n",
    "    error_hi=np.sqrt(np.diag(covariance_hi)) # find error on parameters\n",
    "    [slope_lo,intercept_lo], covariance_lo = sp.curve_fit(linear_fit,np.log10(minPressures.loc[minPressures.pressure<cutoffPressure,'pressure']), np.log10(minPressures.loc[minPressures.pressure<cutoffPressure,'aBulkModulus']))\n",
    "    error_lo=np.sqrt(np.diag(covariance_lo))\n",
    "    RMS_hi=np.sqrt(sum((minPressures.loc[minPressures.pressure>cutoffPressure,'aBulkModulus']-minPressures.loc[minPressures.pressure>cutoffPressure,'pressure']**slope_hi*10**intercept_hi)**2)/len(minPressures[minPressures.pressure>cutoffPressure]))\n",
    "    RMS_lo=np.sqrt(sum((minPressures.loc[minPressures.pressure<cutoffPressure,'aBulkModulus']-minPressures.loc[minPressures.pressure<cutoffPressure,'pressure']**slope_lo*10**intercept_lo)**2)/len(minPressures[minPressures.pressure<cutoffPressure]))\n",
    "\n",
    "    #regressResult.append('RMS_low: {R:.4f}'.format(R=RMS1))\n",
    "\n",
    "    xValues=np.array(plt.xlim())\n",
    "    yValues=xValues**slope_lo*10**intercept_lo\n",
    "    plt.plot(xValues,yValues,color='C{}'.format(colorCounter), label='{file} n_f: {n_f:.3f}, slope = {bm:.3f}+/-{err:.3f}'.format(file=file, n_f=pinDensity,bm=slope_lo,err=error_lo[0]))\n",
    "# cosmetics\n",
    "#ax1.set(aspect='equal',adjustable='datalim')\n",
    "plt.title('affine bulk modulus vs. pressure')\n",
    "plt.xlabel('pressure')\n",
    "plt.ylabel('affine bulk modulus')\n",
    "plt.legend()\n",
    "\n",
    "# Plot 2: Shear Modulus\n",
    "regressResult.append('Shear Modulus:')\n",
    "ax2 = fig.add_subplot(1,3,2) # initilalize axes\n",
    "ax2.set_xlim(6.8e-5,1.38)\n",
    "# linear regression\n",
    "for colorCounter, file in enumerate(files):\n",
    "    minPressures=minPressureDict[file]\n",
    "    pinDensity=minPressures['num_pins'].iloc[0]/(minPressures['num_total'].iloc[0]-minPressures['num_pins'].iloc[0])\n",
    "    plt.loglog(minPressures['pressure'],minPressures['axyxy'], '.', alpha=0.3,color='C{}'.format(colorCounter))\n",
    "    [avgSlope,avgIntercept], avgCovariance = sp.curve_fit(linear_fit,np.log10(minPressures['pressure']), np.log10(minPressures['axyxy']))\n",
    "    avgError=np.sqrt(np.diag(avgCovariance))\n",
    "\n",
    "    [slope_hi,intercept_hi], covariance_hi = sp.curve_fit(linear_fit,np.log10(minPressures.loc[minPressures.pressure>cutoffPressure,'pressure']), np.log10(minPressures.loc[minPressures.pressure>cutoffPressure,'axyxy']))\n",
    "    error_hi=np.sqrt(np.diag(covariance_hi)) # find error on parameters\n",
    "    [slope_lo,intercept_lo], covariance_lo = sp.curve_fit(linear_fit,np.log10(minPressures.loc[minPressures.pressure<cutoffPressure,'pressure']), np.log10(minPressures.loc[minPressures.pressure<cutoffPressure,'axyxy']))\n",
    "    error_lo=np.sqrt(np.diag(covariance_lo))\n",
    "    RMS_hi=np.sqrt(sum((minPressures.loc[minPressures.pressure>cutoffPressure,'axyxy']-minPressures.loc[minPressures.pressure>cutoffPressure,'pressure']**slope_hi*10**intercept_hi)**2)/len(minPressures[minPressures.pressure>cutoffPressure]))\n",
    "    RMS_lo=np.sqrt(sum((minPressures.loc[minPressures.pressure<cutoffPressure,'axyxy']-minPressures.loc[minPressures.pressure<cutoffPressure,'pressure']**slope_lo*10**intercept_lo)**2)/len(minPressures[minPressures.pressure<cutoffPressure]))\n",
    "\n",
    "    #regressResult.append('RMS_low: {R:.4f}'.format(R=RMS1))\n",
    "\n",
    "    xValues=np.array(plt.xlim())\n",
    "    yValues=xValues**slope_lo*10**intercept_lo\n",
    "    plt.plot(xValues,yValues,color='C{}'.format(colorCounter), label='{file}, n_f: {n_f:.3f}, slope = {bm:.3f}+/-{err:.3f}'.format(file=file, n_f=pinDensity,bm=slope_lo,err=error_lo[0]))\n",
    "# cosmetics\n",
    "#ax1.set(aspect='equal',adjustable='datalim')\n",
    "plt.title('affine shear modulus vs. pressure')\n",
    "plt.xlabel('pressure')\n",
    "plt.ylabel('affine shear modulus')\n",
    "plt.legend()\n",
    "\n",
    "# Plot 3: Shear Prime Modulus\n",
    "regressResult.append('Shear Prime Modulus:')\n",
    "ax3 = fig.add_subplot(1,3,3) # initilalize axes\n",
    "ax3.set_xlim(6.8e-5,1.38)\n",
    "# linear regression\n",
    "for colorCounter, file in enumerate(files):\n",
    "    minPressures=minPressureDict[file]\n",
    "    pinDensity=minPressures['num_pins'].iloc[0]/(minPressures['num_total'].iloc[0]-minPressures['num_pins'].iloc[0])\n",
    "    plt.loglog(minPressures['pressure'],minPressures['aShearPrimeModulus'], '.', alpha=0.3,color='C{}'.format(colorCounter))\n",
    "    [avgSlope,avgIntercept], avgCovariance = sp.curve_fit(linear_fit,np.log10(minPressures['pressure']), np.log10(minPressures['aShearPrimeModulus']))\n",
    "    avgError=np.sqrt(np.diag(avgCovariance))\n",
    "\n",
    "    [slope_hi,intercept_hi], covariance_hi = sp.curve_fit(linear_fit,np.log10(minPressures.loc[minPressures.pressure>cutoffPressure,'pressure']), np.log10(minPressures.loc[minPressures.pressure>cutoffPressure,'aShearPrimeModulus']))\n",
    "    error_hi=np.sqrt(np.diag(covariance_hi)) # find error on parameters\n",
    "    [slope_lo,intercept_lo], covariance_lo = sp.curve_fit(linear_fit,np.log10(minPressures.loc[minPressures.pressure<cutoffPressure,'pressure']), np.log10(minPressures.loc[minPressures.pressure<cutoffPressure,'aShearPrimeModulus']))\n",
    "    error_lo=np.sqrt(np.diag(covariance_lo))\n",
    "    RMS_hi=np.sqrt(sum((minPressures.loc[minPressures.pressure>cutoffPressure,'aShearPrimeModulus']-minPressures.loc[minPressures.pressure>cutoffPressure,'pressure']**slope_hi*10**intercept_hi)**2)/len(minPressures[minPressures.pressure>cutoffPressure]))\n",
    "    RMS_lo=np.sqrt(sum((minPressures.loc[minPressures.pressure<cutoffPressure,'aShearPrimeModulus']-minPressures.loc[minPressures.pressure<cutoffPressure,'pressure']**slope_lo*10**intercept_lo)**2)/len(minPressures[minPressures.pressure<cutoffPressure]))\n",
    "\n",
    "    #regressResult.append('RMS_low: {R:.4f}'.format(R=RMS1))\n",
    "\n",
    "    xValues=np.array(plt.xlim())\n",
    "    yValues=xValues**slope_lo*10**intercept_lo\n",
    "    plt.plot(xValues,yValues,color='C{}'.format(colorCounter), label='{file} n_f: {n_f:.3f}, slope = {bm:.3f}+/-{err:.3f}'.format(file=file, n_f=pinDensity,bm=slope_lo,err=error_lo[0]))\n",
    "# cosmetics\n",
    "#ax1.set(aspect='equal',adjustable='datalim')\n",
    "for axis in [ax1,ax2,ax3]:\n",
    "    axis.axvspan(cutoffPressure,1.38, alpha=0.2, color='gray')\n",
    "plt.title('affine shear prime modulus vs. pressure')\n",
    "plt.xlabel('pressure')\n",
    "plt.ylabel('affine G\\' modulus')\n",
    "plt.legend()\n",
    "plt.tight_layout()\n",
    "\n",
    "#plt.subplots_adjust(top=0.9)\n",
    "#plt.figtext(0.8,0.25,'\\n'.join(regressResult), ha='right', fontsize=12)\n",
    "#plt.suptitle('Affine Elastic Moduli vs. $\\Delta Z$ for non/tri lattice, July 2020, fitting p<{}'.format(cutoffPressure),x=0.5,y=0.93, fontsize = 16)\n",
    "\n",
    "#plt.savefig('plots/presentation/affine_elasticmoduli-pressure-squ-july2020.png', dpi=300)"
   ]
  },
  {
   "cell_type": "markdown",
   "metadata": {
    "collapsed": false
   },
   "source": [
    "# 2. Rattler Plots"
   ]
  },
  {
   "cell_type": "markdown",
   "metadata": {
    "collapsed": false
   },
   "source": [
    "## 2.1. Fraction of rattlers vs. $\\Delta\\phi$\n",
    "This cell plots each trial separately for more effective comparison, since on the same axes the vast majority of data points would occupy the same region. Titles and axis labels for the graphs have been omitted as these plots were assembled into a single diagram outside of matpl"
   ]
  },
  {
   "cell_type": "code",
   "execution_count": 45,
   "metadata": {
    "collapsed": false
   },
   "outputs": [
    {
     "data": {
      "image/png": "[encoded data removed]",
      "text/plain": [
       "<Figure size 576x576 with 1 Axes>"
      ]
     },
     "execution_count": 45,
     "metadata": {
      "image/png": {
       "height": 494,
       "width": 507
      },
      "needs_background": "light"
     },
     "output_type": "execute_result"
    }
   ],
   "source": [
    "plt.figure(figsize=(8,8)) # large, square plot\n",
    "for trial in data.groupby(independentVariable):\n",
    "    #trialData=trial[1][trial[1].deltaPhi<=0.15]\n",
    "    plt.plot(trial[1]['pressure'],trial[1]['rattlerfraction'],'.')\n",
    "    #rattlerMeans=trialData.groupby('phi')['rattlerfraction'].mean()\n",
    "    #rattlerStd=trialData.groupby('phi')['rattlerfraction'].std()\n",
    "    #plt.errorbar(rattlerMeans.index.values, rattlerMeans, yerr=rattlerStd, fmt='.', ecolor=None, label='{}: {}'.format(independentVariable,trial[0]), alpha=0.5)\n",
    "\n",
    "plt.xlabel('pressure')\n",
    "plt.ylabel('Fraction of Rattlers')\n",
    "plt.title('Fraction of Rattlers vs. Pressure for 920 particles, no pins')\n",
    "#plt.legend()\n",
    "plt.savefig('plots/non0-920-rattlers_vs_pressure.png', dpi=300)\n",
    "plt.show()"
   ]
  }
 ],
 "metadata": {
  "kernelspec": {
   "display_name": "Python 3 (system-wide)",
   "language": "python",
   "metadata": {
    "cocalc": {
     "description": "Python 3 programming language",
     "priority": 100,
     "url": "https://www.python.org/"
    }
   },
   "name": "python3"
  },
  "language_info": {
   "codemirror_mode": {
    "name": "ipython",
    "version": 3
   },
   "file_extension": ".py",
   "mimetype": "text/x-python",
   "name": "python",
   "nbconvert_exporter": "python",
   "pygments_lexer": "ipython3",
   "version": "3.8.5"
  }
 },
 "nbformat": 4,
 "nbformat_minor": 4
}